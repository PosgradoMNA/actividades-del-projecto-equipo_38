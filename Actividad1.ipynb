{
  "cells": [
    {
      "cell_type": "markdown",
      "metadata": {
        "colab_type": "text",
        "id": "view-in-github"
      },
      "source": [
        "<a href=\"https://colab.research.google.com/github/tec03/ParaAssignment01-/blob/main/assignment01.ipynb\" target=\"_parent\"><img src=\"https://colab.research.google.com/assets/colab-badge.svg\" alt=\"Open In Colab\"/></a>"
      ]
    },
    {
      "cell_type": "markdown",
      "metadata": {},
      "source": [
        "Actividad Proyecto 1\n",
        "\n",
        "Gerardo Quiroga A00967999\n",
        "Juan Bladinieres A01793474"
      ]
    },
    {
      "cell_type": "markdown",
      "metadata": {},
      "source": [
        "El nombre que caracteriza el conjunto de datos.\n",
        "DATOS ABIERTOS JULIO 2022.xlsx"
      ]
    },
    {
      "cell_type": "markdown",
      "metadata": {},
      "source": [
        "La organización que lo generó.\n",
        "Procuraduría Federal del Consumidor (PROFECO) Gobierno de México"
      ]
    },
    {
      "cell_type": "markdown",
      "metadata": {},
      "source": [
        "Incluya un enlace de Internet donde se puedan descargar el base de datos en línea\n",
        "https://datos.profeco.gob.mx/datos_abiertos/file.php?t=943228ab2ffe4e7ec9ac64ed6fa4813b"
      ]
    },
    {
      "cell_type": "markdown",
      "metadata": {},
      "source": [
        "Describe el conjunto de datos. ¿Qué datos contiene?\n",
        "Descripción de las quejas y reclamos sobre productos y servicios a nivel nacional divididos por giro, sector y por la empresa responsable y finalmente se exponen el estatus de la queja y si se generó una devolución."
      ]
    },
    {
      "cell_type": "markdown",
      "metadata": {},
      "source": [
        "¿Cuáles son algunas de las preguntas de investigación que podría responder con estos datos? Enumere al menos OCHO (no responda las preguntas).\n",
        "\n",
        "- El giro o sector que genera mayor número de reclamos.\n",
        "- La empresa que tiene el mayor número de reclamos.\n",
        "- El estado en el que se generan más reclamos.\n",
        "- Procentaje en los que los reclamos derivan a una devolución.\n",
        "- Porcentaje de cierre de quejas por mes.\n",
        "- La empresa que genera mayor monto de reclamos.\n",
        "- El giro o sector que genera mayor monto en reclamo.\n",
        "- Estacionalidad de los reclamos.\n",
        "- Porcentaje de apertura contra cierre de casos por mes."
      ]
    },
    {
      "cell_type": "markdown",
      "metadata": {},
      "source": [
        "¿Qué actor (empresa, sector de la sociedad, organismo descentralizado, gobierno, etc.) estaría interesado en las preguntas mencionadas que identificó?\n",
        "\n",
        "Todos, por que:\n",
        "- Las empresas con mayor número de reclamos les interesa saber los problemas para mejorar el producto o servicio. Y así tener mayor número de clientes y mayor retencion de los mismos.\n",
        "- Sector de la sociedad seria todo aquel que requiera comprar un producto o servicio y por medio de estos datos puede determinar el producto que mejor satisface sus necesidades.\n",
        "- El organismo descentralizado es la misma institución que junta los datos.\n",
        "- El gobierno le sirven estos datos para crear demandas a las empresas y así la ciudadania tenga productos de alta calidad."
      ]
    }
  ],
  "metadata": {
    "colab": {
      "include_colab_link": true,
      "name": "assignment01.ipynb",
      "provenance": []
    },
    "kernelspec": {
      "display_name": "Python 3.10.1 64-bit",
      "language": "python",
      "name": "python3"
    },
    "language_info": {
      "name": "python",
      "version": "3.10.1"
    },
    "vscode": {
      "interpreter": {
        "hash": "369f2c481f4da34e4445cda3fffd2e751bd1c4d706f27375911949ba6bb62e1c"
      }
    }
  },
  "nbformat": 4,
  "nbformat_minor": 0
}
