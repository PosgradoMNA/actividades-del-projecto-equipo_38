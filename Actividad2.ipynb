{
  "cells": [
    {
      "cell_type": "markdown",
      "metadata": {
        "colab_type": "text",
        "id": "view-in-github"
      },
      "source": [
        "<a href=\"https://colab.research.google.com/github/tec03/ParaAssignment01-/blob/main/assignment01.ipynb\" target=\"_parent\"><img src=\"https://colab.research.google.com/assets/colab-badge.svg\" alt=\"Open In Colab\"/></a>"
      ]
    },
    {
      "cell_type": "markdown",
      "metadata": {},
      "source": [
        " <iframe src=\"https://miro.com/app/live-embed/uXjVPTZv-oM=/?moveToViewport=-633,-408,1355,621&embedId=584118048980\" scrolling=\"no\" allowfullscreen width=\"768\" height=\"432\" frameborder=\"0\"></iframe>\n"
      ]
    },
    {
      "cell_type": "markdown",
      "metadata": {},
      "source": [
        "- Entendiendo el Negocio (Business Understanding)\n",
        "\n",
        "    Se deben enfocar los objetivos y requerimientos desde la prespectiva del negocio para que desde el principio se tengan metas definidas\n",
        "    y con esto se defina el plan de trabajo y como se debe generar el problema de mina de datos\n",
        "\n",
        "- Data Understanding (Entendimiento de los datos)\n",
        "\n",
        "    Desde el inicio de la recollecion de los datos empieza la segunda face y en esta fase se debe poder determinar la calidad de los datos, se puede empezar a familiarizar con ellos y finalmente empezar a reconocer patrones o información que nos provee. Se pueden determinar hipotesis a partir de ellos o y detectar sub conjuntos de datos que pueden ser utiles.\n",
        "    \n",
        "\n",
        "- Data Preparation (Preparación de los datos)\n",
        "\n",
        "    Se deben preparar los datos obtenidos para el modelado esto conlleva, borrado de datos erroneos o inecesarios, generación de transformaciones para ajustes de metricas y sobre todo determinar si es necesario replantear nuestros datos para poder seguir con el plan de negocio antes planteado.\n",
        "   \n",
        "- Modeling (Modelado)\n",
        "\n",
        "\n",
        "- Evaluation (Evaulación)\n",
        "\n",
        "\n",
        "- Deployment (Despligue)"
      ]
    },
    {
      "cell_type": "markdown",
      "metadata": {},
      "source": [
        "Fases de nuestro proyecto al momento:\n",
        "\n",
        "1. Entendiendo el Negocio: Se determino que nuestra base de datos es muy completa en este aspecto por que se pueden atacar los problemmas de datos desde el lado del negocio o empresa para revisar la cantidad de denuncias realizadas de sus productos o como consumidor para determinar el mejor producto en el mercado que satisface su necesidad.\n",
        "\n",
        "2. Entendimiento de los datos: En el proyecto se entiende que nuestra base de datos es una lista de entradas de reclamaciones de productos o servicios que un ciudadano ha generado en todo el territorio Nacional desde 2018 a Julio de 2022 con una descripción de estatus y las condiciones en las que se cerro la reclamación. "
      ]
    }
  ],
  "metadata": {
    "colab": {
      "include_colab_link": true,
      "name": "assignment01.ipynb",
      "provenance": []
    },
    "kernelspec": {
      "display_name": "Python 3.10.1 64-bit",
      "language": "python",
      "name": "python3"
    },
    "language_info": {
      "name": "python",
      "version": "3.10.1"
    },
    "vscode": {
      "interpreter": {
        "hash": "369f2c481f4da34e4445cda3fffd2e751bd1c4d706f27375911949ba6bb62e1c"
      }
    }
  },
  "nbformat": 4,
  "nbformat_minor": 0
}
